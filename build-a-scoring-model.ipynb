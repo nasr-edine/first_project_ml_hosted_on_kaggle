{
 "cells": [
  {
   "cell_type": "code",
   "execution_count": 1,
   "id": "ddca14f1",
   "metadata": {
    "_cell_guid": "b1076dfc-b9ad-4769-8c92-a6c4dae69d19",
    "_uuid": "8f2839f25d086af736a60e9eeb907d3b93b6e0e5",
    "execution": {
     "iopub.execute_input": "2023-02-15T16:02:53.353544Z",
     "iopub.status.busy": "2023-02-15T16:02:53.352915Z",
     "iopub.status.idle": "2023-02-15T16:02:53.376783Z",
     "shell.execute_reply": "2023-02-15T16:02:53.375547Z"
    },
    "papermill": {
     "duration": 0.032443,
     "end_time": "2023-02-15T16:02:53.380043",
     "exception": false,
     "start_time": "2023-02-15T16:02:53.347600",
     "status": "completed"
    },
    "tags": []
   },
   "outputs": [
    {
     "name": "stdout",
     "output_type": "stream",
     "text": [
      "/kaggle/input/home-credit-default-risk/sample_submission.csv\n",
      "/kaggle/input/home-credit-default-risk/bureau_balance.csv\n",
      "/kaggle/input/home-credit-default-risk/POS_CASH_balance.csv\n",
      "/kaggle/input/home-credit-default-risk/application_train.csv\n",
      "/kaggle/input/home-credit-default-risk/HomeCredit_columns_description.csv\n",
      "/kaggle/input/home-credit-default-risk/application_test.csv\n",
      "/kaggle/input/home-credit-default-risk/previous_application.csv\n",
      "/kaggle/input/home-credit-default-risk/credit_card_balance.csv\n",
      "/kaggle/input/home-credit-default-risk/installments_payments.csv\n",
      "/kaggle/input/home-credit-default-risk/bureau.csv\n"
     ]
    }
   ],
   "source": [
    "# This Python 3 environment comes with many helpful analytics libraries installed\n",
    "# It is defined by the kaggle/python Docker image: https://github.com/kaggle/docker-python\n",
    "# For example, here's several helpful packages to load\n",
    "\n",
    "import numpy as np # linear algebra\n",
    "import pandas as pd # data processing, CSV file I/O (e.g. pd.read_csv)\n",
    "\n",
    "# Input data files are available in the read-only \"../input/\" directory\n",
    "# For example, running this (by clicking run or pressing Shift+Enter) will list all files under the input directory\n",
    "\n",
    "import os\n",
    "for dirname, _, filenames in os.walk('/kaggle/input'):\n",
    "    for filename in filenames:\n",
    "        print(os.path.join(dirname, filename))\n",
    "\n",
    "# You can write up to 20GB to the current directory (/kaggle/working/) that gets preserved as output when you create a version using \"Save & Run All\" \n",
    "# You can also write temporary files to /kaggle/temp/, but they won't be saved outside of the current session"
   ]
  },
  {
   "cell_type": "code",
   "execution_count": 2,
   "id": "27b08125",
   "metadata": {
    "execution": {
     "iopub.execute_input": "2023-02-15T16:02:53.386240Z",
     "iopub.status.busy": "2023-02-15T16:02:53.385556Z",
     "iopub.status.idle": "2023-02-15T16:02:53.425743Z",
     "shell.execute_reply": "2023-02-15T16:02:53.424815Z"
    },
    "papermill": {
     "duration": 0.046662,
     "end_time": "2023-02-15T16:02:53.428957",
     "exception": false,
     "start_time": "2023-02-15T16:02:53.382295",
     "status": "completed"
    },
    "tags": []
   },
   "outputs": [
    {
     "data": {
      "text/html": [
       "<div>\n",
       "<style scoped>\n",
       "    .dataframe tbody tr th:only-of-type {\n",
       "        vertical-align: middle;\n",
       "    }\n",
       "\n",
       "    .dataframe tbody tr th {\n",
       "        vertical-align: top;\n",
       "    }\n",
       "\n",
       "    .dataframe thead th {\n",
       "        text-align: right;\n",
       "    }\n",
       "</style>\n",
       "<table border=\"1\" class=\"dataframe\">\n",
       "  <thead>\n",
       "    <tr style=\"text-align: right;\">\n",
       "      <th></th>\n",
       "      <th>Table</th>\n",
       "      <th>Row</th>\n",
       "      <th>Description</th>\n",
       "      <th>Special</th>\n",
       "    </tr>\n",
       "  </thead>\n",
       "  <tbody>\n",
       "    <tr>\n",
       "      <th>117</th>\n",
       "      <td>application_{train|test}.csv</td>\n",
       "      <td>FLAG_DOCUMENT_20</td>\n",
       "      <td>Did client provide document 20</td>\n",
       "      <td>NaN</td>\n",
       "    </tr>\n",
       "    <tr>\n",
       "      <th>210</th>\n",
       "      <td>previous_application.csv</td>\n",
       "      <td>DAYS_LAST_DUE_1ST_VERSION</td>\n",
       "      <td>Relative to application date of current applic...</td>\n",
       "      <td>time only relative to the application</td>\n",
       "    </tr>\n",
       "    <tr>\n",
       "      <th>171</th>\n",
       "      <td>credit_card_balance.csv</td>\n",
       "      <td>CNT_DRAWINGS_POS_CURRENT</td>\n",
       "      <td>Number of drawings for goods during this month...</td>\n",
       "      <td>NaN</td>\n",
       "    </tr>\n",
       "    <tr>\n",
       "      <th>138</th>\n",
       "      <td>bureau.csv</td>\n",
       "      <td>AMT_CREDIT_SUM_OVERDUE</td>\n",
       "      <td>Current amount overdue on Credit Bureau credit</td>\n",
       "      <td>NaN</td>\n",
       "    </tr>\n",
       "    <tr>\n",
       "      <th>103</th>\n",
       "      <td>application_{train|test}.csv</td>\n",
       "      <td>FLAG_DOCUMENT_6</td>\n",
       "      <td>Did client provide document 6</td>\n",
       "      <td>NaN</td>\n",
       "    </tr>\n",
       "  </tbody>\n",
       "</table>\n",
       "</div>"
      ],
      "text/plain": [
       "                            Table                        Row  \\\n",
       "117  application_{train|test}.csv           FLAG_DOCUMENT_20   \n",
       "210      previous_application.csv  DAYS_LAST_DUE_1ST_VERSION   \n",
       "171       credit_card_balance.csv   CNT_DRAWINGS_POS_CURRENT   \n",
       "138                    bureau.csv     AMT_CREDIT_SUM_OVERDUE   \n",
       "103  application_{train|test}.csv            FLAG_DOCUMENT_6   \n",
       "\n",
       "                                           Description  \\\n",
       "117                     Did client provide document 20   \n",
       "210  Relative to application date of current applic...   \n",
       "171  Number of drawings for goods during this month...   \n",
       "138     Current amount overdue on Credit Bureau credit   \n",
       "103                      Did client provide document 6   \n",
       "\n",
       "                                   Special  \n",
       "117                                    NaN  \n",
       "210  time only relative to the application  \n",
       "171                                    NaN  \n",
       "138                                    NaN  \n",
       "103                                    NaN  "
      ]
     },
     "execution_count": 2,
     "metadata": {},
     "output_type": "execute_result"
    }
   ],
   "source": [
    "header = [\"Table\", \"Row\", \"Description\", \"Special\",]\n",
    "\n",
    "csv_df_homeCredit_columns_description = \"/kaggle/input/home-credit-default-risk/HomeCredit_columns_description.csv\"\n",
    "df_homeCredit_columns_description = pd.read_csv(csv_df_homeCredit_columns_description, skiprows=1, names=header, index_col=0, encoding = 'unicode_escape')\n",
    "\n",
    "df_homeCredit_columns_description.sample(5)"
   ]
  }
 ],
 "metadata": {
  "kernelspec": {
   "display_name": "Python 3",
   "language": "python",
   "name": "python3"
  },
  "language_info": {
   "codemirror_mode": {
    "name": "ipython",
    "version": 3
   },
   "file_extension": ".py",
   "mimetype": "text/x-python",
   "name": "python",
   "nbconvert_exporter": "python",
   "pygments_lexer": "ipython3",
   "version": "3.7.12"
  },
  "papermill": {
   "default_parameters": {},
   "duration": 9.870715,
   "end_time": "2023-02-15T16:02:54.153852",
   "environment_variables": {},
   "exception": null,
   "input_path": "__notebook__.ipynb",
   "output_path": "__notebook__.ipynb",
   "parameters": {},
   "start_time": "2023-02-15T16:02:44.283137",
   "version": "2.3.4"
  }
 },
 "nbformat": 4,
 "nbformat_minor": 5
}
